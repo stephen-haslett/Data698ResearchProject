{
 "cells": [
  {
   "cell_type": "code",
   "execution_count": 1,
   "id": "034ed698",
   "metadata": {
    "scrolled": true
   },
   "outputs": [],
   "source": [
    "from bs4 import BeautifulSoup as bs\n",
    "import requests as r\n",
    "import pandas as pd"
   ]
  },
  {
   "cell_type": "code",
   "execution_count": 2,
   "id": "3711fa31",
   "metadata": {},
   "outputs": [],
   "source": [
    "# https://www.megamillions.com/Winning-Numbers/Previous-Drawings.aspx\n",
    "url = 'https://www.megamillions.com/jackpot-history'"
   ]
  },
  {
   "cell_type": "code",
   "execution_count": 3,
   "id": "95c5bde5",
   "metadata": {},
   "outputs": [],
   "source": [
    "def read_html(url, element):\n",
    "    data = r.get(url)\n",
    "    html_parse = bs(data.content, 'html.parser')\n",
    "    return html_parse.find_all(element)\n",
    "\n",
    "\n",
    "def clean_html(string):\n",
    "    html_dict = {'\\xa0':' ',\n",
    "                'won by':'-',\n",
    "                'won in':'-',\n",
    "                '–':'-'\n",
    "                }\n",
    "    \n",
    "    for key,val in html_dict.items():\n",
    "        string = string.replace(key,val)\n",
    "    return(string)\n",
    "\n",
    "\n",
    "def html_to_df(url):\n",
    "    df = pd.DataFrame(columns = ['date','amount','winner'])\n",
    "    index = 0\n",
    "    winners = read_html(url, 'li')\n",
    "    for winner in winners:\n",
    "        win_am = winner.text\n",
    "        if 'million' in win_am or 'billion' in win_am:\n",
    "            try:\n",
    "                df.loc[index] = clean_html(win_am).split(' - ')\n",
    "            except ValueError:\n",
    "                df.loc[index] = win_am.replace('$','- ').split(' - ')\n",
    "            index += 1\n",
    "    return df\n"
   ]
  },
  {
   "cell_type": "code",
   "execution_count": 4,
   "id": "22dce119",
   "metadata": {},
   "outputs": [],
   "source": [
    "jackpot_winners = html_to_df(url)\n",
    "jackpot_winners.to_csv('jackpot_winners.csv', index=False)"
   ]
  }
 ],
 "metadata": {
  "kernelspec": {
   "display_name": "Python 3",
   "language": "python",
   "name": "python3"
  },
  "language_info": {
   "codemirror_mode": {
    "name": "ipython",
    "version": 3
   },
   "file_extension": ".py",
   "mimetype": "text/x-python",
   "name": "python",
   "nbconvert_exporter": "python",
   "pygments_lexer": "ipython3",
   "version": "3.8.8"
  }
 },
 "nbformat": 4,
 "nbformat_minor": 5
}
